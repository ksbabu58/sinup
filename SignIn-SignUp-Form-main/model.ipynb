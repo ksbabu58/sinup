{
 "cells": [
  {
   "cell_type": "code",
   "execution_count": 63,
   "metadata": {},
   "outputs": [
    {
     "name": "stdout",
     "output_type": "stream",
     "text": [
      "         uname         pass  number\n",
      "0           ks          shr     7.0\n",
      "1          man         eeva     2.0\n",
      "2          ush         stav    17.0\n",
      "3  New Value 1  New Value 2     NaN\n",
      "4  New Value 1  New Value 2     NaN\n"
     ]
    }
   ],
   "source": [
    "import pandas as pd\n",
    "\n",
    "# Read the CSV file into a DataFrame\n",
    "df = pd.read_csv('Book1.csv')\n",
    "\n",
    "# Display the first few rows\n",
    "print(df.head())\n"
   ]
  },
  {
   "cell_type": "code",
   "execution_count": 64,
   "metadata": {},
   "outputs": [
    {
     "name": "stdout",
     "output_type": "stream",
     "text": [
      "Data added successfully!\n"
     ]
    }
   ],
   "source": [
    "# Create a new row of data (you can modify this as needed)\n",
    "new_data = {'uname': 'New Value 1', 'pass': 'New Value 2'}\n",
    "\n",
    "# Convert the new data into a DataFrame\n",
    "new_row_df = pd.DataFrame([new_data])\n",
    "\n",
    "# Concatenate the new row with the existing DataFrame\n",
    "df = pd.concat([df, new_row_df], ignore_index=True)\n",
    "\n",
    "# Write the updated DataFrame back to the CSV file\n",
    "df.to_csv('Book1.csv', index=False)\n",
    "\n",
    "print(\"Data added successfully!\")\n"
   ]
  },
  {
   "cell_type": "code",
   "execution_count": 65,
   "metadata": {},
   "outputs": [
    {
     "data": {
      "text/plain": [
       "0     7.0\n",
       "1     2.0\n",
       "2    17.0\n",
       "3     NaN\n",
       "4     NaN\n",
       "5     NaN\n",
       "6     NaN\n",
       "7     NaN\n",
       "8     NaN\n",
       "9     NaN\n",
       "Name: number, dtype: float64"
      ]
     },
     "execution_count": 65,
     "metadata": {},
     "output_type": "execute_result"
    }
   ],
   "source": [
    "df['number']"
   ]
  },
  {
   "cell_type": "code",
   "execution_count": 66,
   "metadata": {},
   "outputs": [
    {
     "name": "stdout",
     "output_type": "stream",
     "text": [
      "[7.0, 2.0, 17.0, nan, nan, nan, nan, nan, nan, nan]\n"
     ]
    }
   ],
   "source": [
    "\n",
    "# Extract the column by name (e.g., 'Column2')\n",
    "column_data = df['number'].tolist()\n",
    "\n",
    "print(column_data)\n",
    "\n"
   ]
  },
  {
   "cell_type": "code",
   "execution_count": 67,
   "metadata": {},
   "outputs": [
    {
     "name": "stdout",
     "output_type": "stream",
     "text": [
      "17.0 is in the list.\n"
     ]
    }
   ],
   "source": [
    "data_to_search = 17.0\n",
    "\n",
    "if data_to_search in column_data:\n",
    "    print(f\"{data_to_search} is in the list.\")\n",
    "    \n"
   ]
  },
  {
   "cell_type": "code",
   "execution_count": 74,
   "metadata": {},
   "outputs": [
    {
     "name": "stdout",
     "output_type": "stream",
     "text": [
      "sha256$AsELR1heMFDB0xQR$2f8659aab0fc118021cc475ba01cc625ff5b4292622823d193fedd2b901aac44\n"
     ]
    }
   ],
   "source": [
    "from werkzeug.security import generate_password_hash\n",
    "# Inside your registration route\n",
    "#plain_password = request.form['password']   Read the plain password\n",
    "plain_password='kbsas'\n",
    "hashed_password = generate_password_hash(plain_password, method='sha256')\n",
    "# Now you have the hashed password; you can use it as needed (e.g., for authentication)\n",
    "print(hashed_password)"
   ]
  },
  {
   "cell_type": "code",
   "execution_count": null,
   "metadata": {},
   "outputs": [
    {
     "name": "stdout",
     "output_type": "stream",
     "text": [
      "Generated OTP: F869R7\n"
     ]
    }
   ],
   "source": [
    "import random\n",
    "import string\n",
    "\n",
    "def generate_otp(length=6):\n",
    "    # Define characters for the OTP (digits and uppercase letters)\n",
    "    characters = string.digits + string.ascii_uppercase\n",
    "\n",
    "    # Generate a random OTP\n",
    "    otp = ''.join(random.choice(characters) for _ in range(length))\n",
    "    return otp\n",
    "\n",
    "# Example usage:\n",
    "generated_otp = generate_otp()\n",
    "print(f\"Generated OTP: {generated_otp}\")\n"
   ]
  },
  {
   "cell_type": "code",
   "execution_count": null,
   "metadata": {},
   "outputs": [
    {
     "data": {
      "text/html": [
       "<div>\n",
       "<style scoped>\n",
       "    .dataframe tbody tr th:only-of-type {\n",
       "        vertical-align: middle;\n",
       "    }\n",
       "\n",
       "    .dataframe tbody tr th {\n",
       "        vertical-align: top;\n",
       "    }\n",
       "\n",
       "    .dataframe thead th {\n",
       "        text-align: right;\n",
       "    }\n",
       "</style>\n",
       "<table border=\"1\" class=\"dataframe\">\n",
       "  <thead>\n",
       "    <tr style=\"text-align: right;\">\n",
       "      <th></th>\n",
       "      <th>uname</th>\n",
       "      <th>pass</th>\n",
       "      <th>number</th>\n",
       "    </tr>\n",
       "  </thead>\n",
       "  <tbody>\n",
       "    <tr>\n",
       "      <th>0</th>\n",
       "      <td>ks</td>\n",
       "      <td>shr</td>\n",
       "      <td>7.0</td>\n",
       "    </tr>\n",
       "    <tr>\n",
       "      <th>1</th>\n",
       "      <td>man</td>\n",
       "      <td>eeva</td>\n",
       "      <td>2.0</td>\n",
       "    </tr>\n",
       "    <tr>\n",
       "      <th>2</th>\n",
       "      <td>ush</td>\n",
       "      <td>stav</td>\n",
       "      <td>17.0</td>\n",
       "    </tr>\n",
       "    <tr>\n",
       "      <th>3</th>\n",
       "      <td>New Value 1</td>\n",
       "      <td>New Value 2</td>\n",
       "      <td>NaN</td>\n",
       "    </tr>\n",
       "    <tr>\n",
       "      <th>4</th>\n",
       "      <td>New Value 1</td>\n",
       "      <td>New Value 2</td>\n",
       "      <td>NaN</td>\n",
       "    </tr>\n",
       "  </tbody>\n",
       "</table>\n",
       "</div>"
      ],
      "text/plain": [
       "         uname         pass  number\n",
       "0           ks          shr     7.0\n",
       "1          man         eeva     2.0\n",
       "2          ush         stav    17.0\n",
       "3  New Value 1  New Value 2     NaN\n",
       "4  New Value 1  New Value 2     NaN"
      ]
     },
     "execution_count": 62,
     "metadata": {},
     "output_type": "execute_result"
    }
   ],
   "source": [
    "df.head()"
   ]
  }
 ],
 "metadata": {
  "kernelspec": {
   "display_name": ".venv",
   "language": "python",
   "name": "python3"
  },
  "language_info": {
   "codemirror_mode": {
    "name": "ipython",
    "version": 3
   },
   "file_extension": ".py",
   "mimetype": "text/x-python",
   "name": "python",
   "nbconvert_exporter": "python",
   "pygments_lexer": "ipython3",
   "version": "3.11.5"
  }
 },
 "nbformat": 4,
 "nbformat_minor": 2
}
