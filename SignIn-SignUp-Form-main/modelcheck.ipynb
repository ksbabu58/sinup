{
 "cells": [
  {
   "cell_type": "code",
   "execution_count": 3,
   "metadata": {},
   "outputs": [
    {
     "name": "stdout",
     "output_type": "stream",
     "text": [
      "         uname         pass  number\n",
      "0           ks          shr     7.0\n",
      "1          man         eeva     2.0\n",
      "2          ush         stav    17.0\n",
      "3  New Value 1  New Value 2     NaN\n",
      "4  New Value 1  New Value 2     NaN\n"
     ]
    }
   ],
   "source": [
    "import pandas as pd\n",
    "import numpy as np\n",
    "\n",
    "df = pd.read_csv('Book1.csv')\n",
    "\n",
    "# Display the first few rows\n",
    "print(df.head())\n"
   ]
  },
  {
   "cell_type": "code",
   "execution_count": 6,
   "metadata": {},
   "outputs": [
    {
     "name": "stdout",
     "output_type": "stream",
     "text": [
      "Column 1: ['ks' 'man' 'ush' 'New Value 1' 'New Value 1' 'New Value 1' 'New Value 1'\n",
      " 'New Value 1' 'New Value 1' 'New Value 1'], Column 2: ['shr' 'eeva' 'stav' 'New Value 2' 'New Value 2' 'New Value 2'\n",
      " 'New Value 2' 'New Value 2' 'New Value 2' 'New Value 2']\n",
      "True\n"
     ]
    }
   ],
   "source": [
    "\n",
    "for row in df:\n",
    "    # Access specific columns by their indices\n",
    "    column1 = np.array(df['uname'].to_list())\n",
    "    column2 = np.array(df['pass'].to_list())\n",
    "        # Process the data as needed\n",
    "print(f\"Column 1: {column1}, Column 2: {column2}\")\n",
    "if(column1[0]=='ks' and column2[0]=='shr'):\n",
    "    print(\"True\")\n"
   ]
  },
  {
   "cell_type": "code",
   "execution_count": null,
   "metadata": {},
   "outputs": [],
   "source": []
  }
 ],
 "metadata": {
  "kernelspec": {
   "display_name": "base",
   "language": "python",
   "name": "python3"
  },
  "language_info": {
   "codemirror_mode": {
    "name": "ipython",
    "version": 3
   },
   "file_extension": ".py",
   "mimetype": "text/x-python",
   "name": "python",
   "nbconvert_exporter": "python",
   "pygments_lexer": "ipython3",
   "version": "3.11.5"
  }
 },
 "nbformat": 4,
 "nbformat_minor": 2
}
